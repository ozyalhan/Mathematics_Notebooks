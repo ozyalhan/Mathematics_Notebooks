{
 "cells": [
  {
   "cell_type": "markdown",
   "metadata": {},
   "source": [
    "# Analysis of Euler's Formula\n",
    "\n",
    "As I am a man with a very huge interest in Mathematics, I want to share series of some math myths(just for me) and deep dive into this area as curious about math. Euler's Formula is a very specific equation to start this series. It is magnificently pure and its mind behind comes from an extremely clever perspective of mathematics. No magic, just a prove of human brain to overcome problem of interests. Let's use Python as our tricky helper mate to understand this beauty of mathematics. \n",
    "\n",
    "\n",
    "### Euler's Formula\n",
    "\n",
    "$e^{i\\phi} = \\cos(\\phi) +  i\\sin(\\phi)$\n",
    "\n",
    "\n",
    "### Euler's Idendity\n",
    "\n",
    "$e^{i\\pi} + 1 = 0$"
   ]
  },
  {
   "cell_type": "markdown",
   "metadata": {},
   "source": [
    "Constant $e$ is one of the important mathematical constant. Otherwise most known constants, its magic comes from that it isn't defined by geometry such as pi. $e$ is a mathematical constant that is related to growth and rate of change. Its mindly source is compound interest. Okay, enough for its history  \n",
    "\n",
    "#### Power Series of Definition\n",
    "$e^x = 1 + \\frac{x}{1!} + \\frac{x^2}{2!} + \\frac{x^3}{3!} + \\cdots = \\sum_{n=0}^{\\infty} \\frac{x^n}{n!}.$\n",
    "\n",
    "#### if $x = 1$,\n",
    "$e =  \\sum\\limits_{n = 0}^{\\infty} \\frac{1}{n!} = 1 + \\frac{1}{1} + \\frac{1}{1\\cdot 2} + \\frac{1}{1\\cdot 2\\cdot 3} + \\cdots$\n",
    "\n",
    "#### also,\n",
    "$e = \\mathop {\\lim }\\limits_{n \\to \\infty } \\left( {1 + \\frac{1}{n}} \\right)^n$\n",
    "\n",
    "#### with this informations it is clear that,\n",
    "\n",
    "$e = 2.718281828459045$\n",
    "\n",
    "Let's prove it by using very easy piece of code."
   ]
  },
  {
   "cell_type": "markdown",
   "metadata": {},
   "source": [
    "$e = \\mathop {\\lim }\\limits_{n \\to \\infty } \\left( {1 + \\frac{1}{n}} \\right)^n$"
   ]
  },
  {
   "cell_type": "code",
   "execution_count": 31,
   "metadata": {},
   "outputs": [
    {
     "name": "stdout",
     "output_type": "stream",
     "text": [
      "2.718281828459045\n",
      "2.718281828459045\n",
      "True\n"
     ]
    }
   ],
   "source": [
    "import cmath #package of complex numbers\n",
    "from math import e,factorial \n",
    "\n",
    "print(e) #submodule provides e number here, #2.718281828459045\n",
    "\n",
    "#Find the constant of euler's number \n",
    "#I divide the e_value of 2 part and final result of e is what we expected.\n",
    "x = 1\n",
    "e_value_firstPart = 1 + x + ((x**2)/factorial(2)) + ((x**3)/factorial(3)) + ((x**4)/factorial(4)) + ((x**5)/factorial(5)) + ((x**6)/factorial(6)) + ((x**7)/factorial(7)) \n",
    "e_value_secondPart = ((x**8)/factorial(8) + ((x**9)/factorial(9))) + ((x**10)/factorial(10))  + ((x**11)/factorial(11))  + ((x**12)/factorial(12)) + ((x**13)/factorial(13))\n",
    "e_value_thirdPart = ((x**14)/factorial(14) + ((x**15)/factorial(15))) + ((x**16)/factorial(16))  + ((x**17)/factorial(17))  \n",
    "\n",
    "e_value = e_value_firstPart + e_value_secondPart + e_value_thirdPart\n",
    "print(e_value)\n",
    "\n",
    "print(e == e_value) #True, nice to see it :)"
   ]
  },
  {
   "cell_type": "markdown",
   "metadata": {},
   "source": [
    "We need to take a closer look at the Taylor series of the sine and cosine functions. Just remember results."
   ]
  },
  {
   "cell_type": "markdown",
   "metadata": {},
   "source": [
    "<math>\n",
    "\\begin{align}\n",
    "\\sin x & = x - \\frac{x^3}{3!} + \\frac{x^5}{5!} - \\frac{x^7}{7!} + \\cdots \\\\[8pt]\n",
    "& = \\sum_{n=0}^\\infty \\frac{(-1)^n x^{2n+1}}{(2n+1)!} \\\\[8pt]\n",
    "\\end{align}\n",
    "</math>\n",
    "\n"
   ]
  },
  {
   "cell_type": "markdown",
   "metadata": {},
   "source": [
    "<math>\n",
    "\\begin{align}\n",
    "\\cos x & = 1 - \\frac{x^2}{2!} + \\frac{x^4}{4!} - \\frac{x^6}{6!} + \\cdots \\\\[8pt]\n",
    "& = \\sum_{n=0}^\\infty \\frac{(-1)^n x^{2n}}{(2n)!} \\\\[8pt]\n",
    "\\end{align}\n",
    "</math>"
   ]
  },
  {
   "cell_type": "markdown",
   "metadata": {},
   "source": [
    "Using the power-series definition we can reach the complex definition with sinus and cosine.\n",
    "\n",
    "\n",
    "<math>\\begin{align}\n",
    " e^{ix} &= 1 + ix + \\frac{(ix)^2}{2!} + \\frac{(ix)^3}{3!} + \\frac{(ix)^4}{4!} + \\frac{(ix)^5}{5!} + \\frac{(ix)^6}{6!} + \\frac{(ix)^7}{7!} + \\frac{(ix)^8}{8!} + \\cdots \\\\[8pt]\n",
    " &= 1 + ix - \\frac{x^2}{2!} - \\frac{ix^3}{3!} + \\frac{x^4}{4!} + \\frac{ix^5}{5!} - \\frac{x^6}{6!} - \\frac{ix^7}{7!} + \\frac{x^8}{8!} + \\cdots \\\\[8pt]\n",
    " &= \\left( 1 - \\frac{x^2}{2!} + \\frac{x^4}{4!} - \\frac{x^6}{6!} + \\frac{x^8}{8!} - \\cdots \\right) + i\\left( x - \\frac{x^3}{3!} + \\frac{x^5}{5!} - \\frac{x^7}{7!} + \\cdots \\right) \\\\[8pt]\n",
    " &= \\cos x + i\\sin x ,\n",
    "\\end{align}</math>"
   ]
  },
  {
   "cell_type": "markdown",
   "metadata": {},
   "source": [
    "\n",
    "### by the way, Euler's Formula is \n",
    "$e^{i\\phi} = \\cos(\\phi) +  i\\sin(\\phi)$\n",
    "\n",
    "\n",
    "if $\\phi = \\pi$,\n",
    "\n",
    "$e^{i\\pi} + 1 = 0$\n",
    "\n",
    "### it brings us euler identity."
   ]
  },
  {
   "cell_type": "markdown",
   "metadata": {},
   "source": [
    "### So what are the mutuals of cosine and sine by $e$ .\n",
    "\n",
    "$e^{i\\phi} = \\cos(\\phi) +  i\\sin(\\phi)$\n",
    "\n",
    "$e^{-i\\phi} = \\cos(\\phi) +  i\\sin(-\\phi)$\n",
    "\n",
    "\n",
    "Remember cosine is even function and sine is odd function. If we do addition and substraction respectively,\n",
    "\n",
    "\n",
    "$\\sin(\\phi) = \\frac{1}{2}(e^{i\\phi} - e^{-i\\phi})$\n",
    "\n",
    "$\\cos(\\phi) = \\frac{1}{2}(e^{i\\phi} + e^{-i\\phi})$"
   ]
  },
  {
   "cell_type": "markdown",
   "metadata": {},
   "source": [
    "### General Defination For Engineering Math\n",
    "\n",
    "$\\sin(\\omega t + \\theta) = \\frac{1}{2}(e^{i(\\omega t + \\theta)} - e^{-i(\\omega t + \\theta)})$\n",
    "\n",
    "$\\cos(\\omega t + \\theta) = \\frac{1}{2}(e^{i(\\omega t + \\theta)} + e^{-i(\\omega t + \\theta)})$\n",
    "\n",
    "- $\\theta$ is phase, $\\omega$ is angular frequency"
   ]
  }
 ],
 "metadata": {
  "kernelspec": {
   "display_name": "Python 3",
   "language": "python",
   "name": "python3"
  },
  "language_info": {
   "codemirror_mode": {
    "name": "ipython",
    "version": 3
   },
   "file_extension": ".py",
   "mimetype": "text/x-python",
   "name": "python",
   "nbconvert_exporter": "python",
   "pygments_lexer": "ipython3",
   "version": "3.9.0"
  }
 },
 "nbformat": 4,
 "nbformat_minor": 4
}
